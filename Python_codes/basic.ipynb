{
 "cells": [
  {
   "cell_type": "code",
   "execution_count": 1,
   "metadata": {},
   "outputs": [
    {
     "name": "stdout",
     "output_type": "stream",
     "text": [
      "Hello world\n"
     ]
    }
   ],
   "source": [
    "#print()\n",
    "print(\"Hello world\")"
   ]
  },
  {
   "cell_type": "code",
   "execution_count": 8,
   "metadata": {},
   "outputs": [
    {
     "name": "stdout",
     "output_type": "stream",
     "text": [
      "Hello, Akib\n",
      "<class 'str'>\n",
      "AkibAkib\n"
     ]
    }
   ],
   "source": [
    "#Taking input from the user\n",
    "name=input(\"Enter your name: \")\n",
    "print(\"Hello, \" + name)\n",
    "print(type(name))\n",
    "print(name + name)"
   ]
  },
  {
   "cell_type": "code",
   "execution_count": 10,
   "metadata": {},
   "outputs": [
    {
     "name": "stdout",
     "output_type": "stream",
     "text": [
      "10\n",
      "<class 'int'>\n",
      "12\n",
      "5.0\n",
      "<class 'float'>\n",
      "7.0\n"
     ]
    }
   ],
   "source": [
    "#Taking input from the user as integer\n",
    "num=int(input(\"Enter a number: \"))\n",
    "'''if int(),float() etc data types are not mentioned,\n",
    "by default the data type will be string'''\n",
    "print(num)\n",
    "print(type(num))\n",
    "print(num+2)\n",
    "\n",
    "#Taking input from the user as float\n",
    "num=float(input(\"Enter a number: \"))\n",
    "print(num)\n",
    "print(type(num))\n",
    "print(num+2)"
   ]
  },
  {
   "cell_type": "code",
   "execution_count": 16,
   "metadata": {},
   "outputs": [
    {
     "name": "stdout",
     "output_type": "stream",
     "text": [
      "True\n",
      "<class 'bool'>\n",
      "4\n"
     ]
    }
   ],
   "source": [
    "#Taking input from the user as bool\n",
    "num=bool(input(\"Enter a number: \"))\n",
    "'''If input is empty output will be False and\n",
    "it's integer value will be 0.\n",
    "Otherwise output will be True and\n",
    "it's integer value will be 1.\n",
    "'''\n",
    "print(num)\n",
    "print(type(num))\n",
    "print(num+3)"
   ]
  },
  {
   "cell_type": "code",
   "execution_count": 17,
   "metadata": {},
   "outputs": [
    {
     "name": "stdout",
     "output_type": "stream",
     "text": [
      "10\n",
      "20\n"
     ]
    }
   ],
   "source": [
    "#Case sensitive\n",
    "a=10\n",
    "A=20\n",
    "print(a)\n",
    "print(A)"
   ]
  },
  {
   "cell_type": "code",
   "execution_count": 35,
   "metadata": {},
   "outputs": [
    {
     "name": "stdout",
     "output_type": "stream",
     "text": [
      "(5+6j)\n",
      "The real part of the complex number is:  5.0\n",
      "The imaginary part of the complex number is:  6.0\n",
      "(6-5j)\n",
      "The real part of the complex number is:  6.0\n",
      "The imaginary part of the complex number is:  -5.0\n"
     ]
    }
   ],
   "source": [
    "#Complex number(x + iy)\n",
    "import math\n",
    "x=int(input()) #Real part of the comlex number\n",
    "y=int(input()) #Imaginary part of the complex number\n",
    "z=complex(x,y)\n",
    "print(z)\n",
    "print(\"The real part of the complex number is: \", z.real)\n",
    "print(\"The imaginary part of the complex number is: \", z.imag)\n",
    "\n",
    "#OR\n",
    "z=complex(input())\n",
    "print(z)\n",
    "print(\"The real part of the complex number is: \", z.real)\n",
    "print(\"The imaginary part of the complex number is: \", z.imag)"
   ]
  },
  {
   "cell_type": "code",
   "execution_count": 40,
   "metadata": {},
   "outputs": [
    {
     "name": "stdout",
     "output_type": "stream",
     "text": [
      "[100, 200, 300]\n",
      "200\n",
      "{'name': 'Akib', 'age': 21, 'city': 'Dhaka'}\n",
      "21\n",
      "{1, 2, 3, 4}\n",
      "None\n",
      "range(1, 5)\n",
      "b'ABa'\n",
      "b'ABa'\n"
     ]
    }
   ],
   "source": [
    "#Data types\n",
    "#1 int\n",
    "age=21\n",
    "#2 float\n",
    "weight=94.5\n",
    "#3 string\n",
    "name='Akib'\n",
    "#4 boolean\n",
    "is_boy=True\n",
    "#5 List\n",
    "list_1=[100,200,300]\n",
    "print(list_1)\n",
    "print(list_1[1])\n",
    "#6 Dictionary{'Key':'Value'}\n",
    "dict1={'name':input(\"Enter name: \"), 'age':21, 'city':'Dhaka'}\n",
    "print(dict1)\n",
    "print(dict1['age'])\n",
    "#7 Tuple\n",
    "tup=(10,20,30)\n",
    "#8 Set\n",
    "set1={1,2,3,3,3,4}\n",
    "print(set1) # All the unique values will be printed\n",
    "#9 None\n",
    "house_no= None\n",
    "print(house_no)\n",
    "#10 Complex\n",
    "z=2+3j\n",
    "#11 Range\n",
    "num=range(1,5)\n",
    "print(num)\n",
    "#12 bytes and bytearray\n",
    "Ascii = bytes([65,66,97])\n",
    "Ascii_ = bytes([65,66,97])\n",
    "print(Ascii)\n",
    "print(Ascii_)"
   ]
  },
  {
   "cell_type": "code",
   "execution_count": 42,
   "metadata": {},
   "outputs": [
    {
     "name": "stdout",
     "output_type": "stream",
     "text": [
      "56\n",
      "11\n",
      "40.5\n",
      "410.0\n"
     ]
    }
   ],
   "source": [
    "#Typecasting\n",
    "num1=input(\"Enter First number: \")\n",
    "num2=input(\"Enter First number: \")\n",
    "print(num1+num2)\n",
    "\n",
    "num1=int(input(\"Enter First number: \"))\n",
    "num2=int(input(\"Enter First number: \"))\n",
    "print(num1+num2)\n",
    "\n",
    "#Implicit typecasting\n",
    "num1=20\n",
    "num2=20.5\n",
    "print(num1+num2) #Output -->float [float>int] \n",
    "print(num1*num2) #Output -->float [float>int]"
   ]
  },
  {
   "cell_type": "code",
   "execution_count": 43,
   "metadata": {},
   "outputs": [
    {
     "name": "stdout",
     "output_type": "stream",
     "text": [
      "11.0\n",
      "0xb\n",
      "0o13\n",
      "0b1011\n",
      "65\n",
      "A\n"
     ]
    }
   ],
   "source": [
    "#Some special typecasting\n",
    "num=11\n",
    "f= float(num)\n",
    "print(f)\n",
    "\n",
    "hexadecimal=hex(num)\n",
    "print(hexadecimal)\n",
    "\n",
    "octal=oct(num)\n",
    "print(octal)\n",
    "\n",
    "binary=bin(num)\n",
    "print(binary)\n",
    "\n",
    "char='A'\n",
    "Ascii=ord(char)\n",
    "print(Ascii)\n",
    "\n",
    "num2=65\n",
    "char=chr(num2)\n",
    "print(char)\n"
   ]
  },
  {
   "cell_type": "code",
   "execution_count": 14,
   "metadata": {},
   "outputs": [
    {
     "name": "stdout",
     "output_type": "stream",
     "text": [
      "I'll call you later\n",
      "Prepare well for \"Admission-2024\" exam\n",
      "Hello,\n",
      "Akib!\n",
      "Hello,\n",
      "\n",
      "Akib!\n",
      "Hello,\tAkib!\n",
      "Hello,\t\t\tAkib!\n",
      "Huge_benifitsof_study\n"
     ]
    }
   ],
   "source": [
    "#Syntax(\\,\\n,\\t,\\r)\n",
    "#1 (\\)\n",
    "print('I\\'ll call you later' )\n",
    "print(\"Prepare well for \\\"Admission-2024\\\" exam\")\n",
    "\n",
    "#2 (\\n)\n",
    "print(\"Hello,\\nAkib!\")\n",
    "print(\"Hello,\\n\\nAkib!\")\n",
    "\n",
    "#3 (\\t)\n",
    "print(\"Hello,\\tAkib!\")\n",
    "print(\"Hello,\\t\\t\\tAkib!\")\n",
    "\n",
    "#4 (\\r)\n",
    "print(\"no__benefits__of_study\\rHuge_benifits\")"
   ]
  },
  {
   "cell_type": "code",
   "execution_count": null,
   "metadata": {},
   "outputs": [],
   "source": [
    "#Operator's presidence\n",
    "'''\n",
    "\n",
    "1. ()\n",
    "2. ** --> Exponent (Right to left) --> a**b**c --> a**(b**c)\n",
    "3. +x, -x, ~x --> Unary plus, Unary minus, Bitwise NOT\n",
    "4. *, /, //, % --> Multyiplication, Division, Floor Division, Modulus(Reminder)\n",
    "5. + , -\n",
    "6. << , >>\n",
    "7. & --> Bitwise AND\n",
    "8. ^ --> Bitwise XOR\n",
    "9. | --> Bitwise OR\n",
    "10. ==, !=, >, >=, <, <=, is, is not, in, not in --> Comparison, Identify, Membership operators\n",
    "11. not --> Logical NOT\n",
    "12. and --> Logical AND\n",
    "13. o --> Logical OR\n",
    "14. =, +=, -=, *=, /= --> Assignment operators (Right to left) \n",
    "\n",
    "\n",
    "'''"
   ]
  },
  {
   "cell_type": "code",
   "execution_count": 15,
   "metadata": {},
   "outputs": [
    {
     "name": "stdout",
     "output_type": "stream",
     "text": [
      "my name is b\n"
     ]
    }
   ],
   "source": [
    "#Logical NOT\n",
    "a= True\n",
    "b= False\n",
    "if not a: #It means a=False now. So if statement will not be executed\n",
    "    print(\"my name is a\") #This Will not be executed\n",
    "else:\n",
    "    print(\"my name is b\") #This Will  be executed\n"
   ]
  },
  {
   "cell_type": "code",
   "execution_count": 21,
   "metadata": {},
   "outputs": [
    {
     "name": "stdout",
     "output_type": "stream",
     "text": [
      "False\n",
      "True\n"
     ]
    }
   ],
   "source": [
    "#Comparison Operators\n",
    "if (4>6)!=False:\n",
    "    print(True)\n",
    "else:\n",
    "    print(False)\n",
    "\n",
    "#OR\n",
    "print((4>6)==False)"
   ]
  }
 ],
 "metadata": {
  "kernelspec": {
   "display_name": "Python 3",
   "language": "python",
   "name": "python3"
  },
  "language_info": {
   "codemirror_mode": {
    "name": "ipython",
    "version": 3
   },
   "file_extension": ".py",
   "mimetype": "text/x-python",
   "name": "python",
   "nbconvert_exporter": "python",
   "pygments_lexer": "ipython3",
   "version": "3.12.3"
  }
 },
 "nbformat": 4,
 "nbformat_minor": 2
}
